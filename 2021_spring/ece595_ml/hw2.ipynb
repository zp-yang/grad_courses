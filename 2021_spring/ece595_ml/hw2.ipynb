{
 "cells": [
  {
   "cell_type": "markdown",
   "id": "every-evolution",
   "metadata": {},
   "source": [
    "# Homework 2"
   ]
  },
  {
   "cell_type": "code",
   "execution_count": 3,
   "id": "banned-hearts",
   "metadata": {},
   "outputs": [
    {
     "name": "stdout",
     "output_type": "stream",
     "text": [
      "/home/zpyang/grad_courses/2021_spring/ece595_ml/figures/hw2/\n"
     ]
    }
   ],
   "source": [
    "%config IPCompleter.use_jedi = False\n",
    "import numpy as np\n",
    "np.set_printoptions(precision=4)\n",
    "from scipy import stats\n",
    "import matplotlib.pyplot as plt\n",
    "import cvxpy as cp\n",
    "import pandas as pd\n",
    "\n",
    "from pathlib import Path\n",
    "fig_path = str(Path().absolute())+'/figures/hw2/'\n",
    "print(fig_path)"
   ]
  },
  {
   "cell_type": "markdown",
   "id": "important-definition",
   "metadata": {},
   "source": [
    "## Exercise 1"
   ]
  },
  {
   "cell_type": "code",
   "execution_count": 27,
   "id": "dying-courtesy",
   "metadata": {},
   "outputs": [],
   "source": [
    "data_path = str(Path().absolute())+'/hw2/data/'\n",
    "\n",
    "male_train_data = pd.read_csv(data_path+'male_train_data.csv')\n",
    "female_train_data = pd.read_csv(data_path+'female_train_data.csv')\n",
    "m_bmi = male_train_data['male_bmi']*0.1\n",
    "m_stature = male_train_data['male_stature_mm']*0.001\n",
    "f_bmi = female_train_data['female_bmi']*0.1\n",
    "f_stature = female_train_data['female_stature_mm']*0.001\n",
    "\n",
    "print('Female BMI: '+str(f_bmi.head(10).values))\n",
    "print('Female Stature(m): '+str(f_stature.head(10).values))\n",
    "print('Male BMI: '+str(m_bmi.head(10).values))\n",
    "print('Male Stature(m): '+str(m_stature.head(10).values))"
   ]
  },
  {
   "cell_type": "code",
   "execution_count": 35,
   "id": "personal-playing",
   "metadata": {},
   "outputs": [
    {
     "name": "stdout",
     "output_type": "stream",
     "text": [
      "Female BMI: [2.82 2.22 2.71 2.81 2.55 2.3  3.56 3.11 2.46 4.3 ]\n",
      "Female Stature(m): [1.563 1.716 1.484 1.651 1.548 1.665 1.564 1.676 1.69  1.704]\n",
      "Male BMI: [3.   2.56 2.42 2.74 2.59 2.53 2.27 2.54 3.41 3.34]\n",
      "Male Stature(m): [1.679 1.586 1.773 1.816 1.809 1.662 1.829 1.686 1.761 1.797]\n"
     ]
    }
   ],
   "source": []
  },
  {
   "cell_type": "code",
   "execution_count": 32,
   "id": "sharp-wholesale",
   "metadata": {},
   "outputs": [
    {
     "data": {
      "text/plain": [
       "array([2.82, 2.22, 2.71, 2.81, 2.55, 2.3 , 3.56, 3.11, 2.46, 4.3 ])"
      ]
     },
     "execution_count": 32,
     "metadata": {},
     "output_type": "execute_result"
    }
   ],
   "source": []
  },
  {
   "cell_type": "code",
   "execution_count": null,
   "id": "respiratory-entertainment",
   "metadata": {},
   "outputs": [],
   "source": []
  }
 ],
 "metadata": {
  "kernelspec": {
   "display_name": "Python 3",
   "language": "python",
   "name": "python3"
  },
  "language_info": {
   "codemirror_mode": {
    "name": "ipython",
    "version": 3
   },
   "file_extension": ".py",
   "mimetype": "text/x-python",
   "name": "python",
   "nbconvert_exporter": "python",
   "pygments_lexer": "ipython3",
   "version": "3.9.1"
  }
 },
 "nbformat": 4,
 "nbformat_minor": 5
}
