{
 "cells": [
  {
   "cell_type": "code",
   "execution_count": 5,
   "id": "extensive-shadow",
   "metadata": {},
   "outputs": [
    {
     "name": "stdout",
     "output_type": "stream",
     "text": [
      "/home/zpyang/grad_courses/2021_spring/ece595_ml/figures/hw3/\n",
      "/home/zpyang/grad_courses/2021_spring/ece595_ml/hw3/data/\n"
     ]
    }
   ],
   "source": [
    "%config IPCompleter.use_jedi = False\n",
    "import numpy as np\n",
    "from scipy import stats\n",
    "import matplotlib.pyplot as plt\n",
    "import cvxpy as cp\n",
    "import pandas as pd\n",
    "np.set_printoptions(precision=4)\n",
    "\n",
    "from pathlib import Path\n",
    "fig_path = str(Path().absolute())+'/figures/hw3/'\n",
    "print(fig_path)\n",
    "data_path = str(Path().absolute())+'/hw3/data/'\n",
    "print(data_path)"
   ]
  },
  {
   "cell_type": "markdown",
   "id": "grand-joint",
   "metadata": {},
   "source": [
    "## Exercise 2"
   ]
  },
  {
   "cell_type": "code",
   "execution_count": 14,
   "id": "valued-variety",
   "metadata": {},
   "outputs": [],
   "source": [
    "train_cat = pd.read_csv(data_path+\"train_cat.txt\", delimiter=',', header=None)\n",
    "train_cat = np.matrix(train_cat)\n",
    "train_grass = pd.read_csv(data_path+\"train_grass.txt\", delimiter=',', header=None)\n",
    "train_grass = np.matrix(train_grass)"
   ]
  },
  {
   "cell_type": "code",
   "execution_count": 16,
   "id": "patent-nicaragua",
   "metadata": {},
   "outputs": [
    {
     "data": {
      "text/plain": [
       "(64, 9556)"
      ]
     },
     "execution_count": 16,
     "metadata": {},
     "output_type": "execute_result"
    }
   ],
   "source": []
  },
  {
   "cell_type": "code",
   "execution_count": null,
   "id": "suffering-foster",
   "metadata": {},
   "outputs": [],
   "source": []
  }
 ],
 "metadata": {
  "kernelspec": {
   "display_name": "Python 3",
   "language": "python",
   "name": "python3"
  },
  "language_info": {
   "codemirror_mode": {
    "name": "ipython",
    "version": 3
   },
   "file_extension": ".py",
   "mimetype": "text/x-python",
   "name": "python",
   "nbconvert_exporter": "python",
   "pygments_lexer": "ipython3",
   "version": "3.9.1"
  }
 },
 "nbformat": 4,
 "nbformat_minor": 5
}
