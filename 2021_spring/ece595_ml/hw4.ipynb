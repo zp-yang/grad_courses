{
 "cells": [
  {
   "cell_type": "code",
   "execution_count": 1,
   "id": "simplified-compound",
   "metadata": {},
   "outputs": [
    {
     "name": "stdout",
     "output_type": "stream",
     "text": [
      "/home/zpyang/grad_courses/2021_spring/ece595_ml/figures/hw4/\n",
      "/home/zpyang/grad_courses/2021_spring/ece595_ml/hw4/data/\n"
     ]
    }
   ],
   "source": [
    "%config IPCompleter.use_jedi = False\n",
    "import numpy as np\n",
    "from scipy import stats\n",
    "import matplotlib.pyplot as plt\n",
    "import cvxpy as cp\n",
    "import pandas as pd\n",
    "np.set_printoptions(precision=4)\n",
    "\n",
    "from pathlib import Path\n",
    "fig_path = str(Path().absolute())+'/figures/hw4/'\n",
    "print(fig_path)\n",
    "data_path = str(Path().absolute())+'/hw4/data/'\n",
    "quiz_data_path = str(Path().absolute())+'/hw4/quiz4_data/data/'\n",
    "print(data_path)"
   ]
  },
  {
   "cell_type": "markdown",
   "id": "matched-prairie",
   "metadata": {},
   "source": [
    "# Exercise 3"
   ]
  },
  {
   "cell_type": "markdown",
   "id": "sublime-pakistan",
   "metadata": {},
   "source": [
    "3 a)\n",
    "$$\n",
    "J(\\theta) = -\\frac{1}{N} \\sum_{n=1}^{N}[y_n \\cdot \\log h_{\\theta}(x_n) + (1-y_n) \\cdot \\log(1-h_{\\theta}(x_n))]\\\\\n",
    "$$\n",
    "$$\n",
    "= -\\frac{1}{N} \\sum_{n=1}^{N}[y_n \\cdot \\log (\\frac{h_{\\theta}(x_n)}{1-h_{\\theta}(x_n)}) + \\log(1-h_{\\theta}(x_n))]\\\\\n",
    "$$\n",
    "$$\n",
    "= -\\frac{1}{N} \\{\\sum_{n=1}^{N}[y_n \\cdot \\log (\\frac{h_{\\theta}(x_n)}{1-h_{\\theta}(x_n)})] + \\sum_{n=1}^{N}\\log(1-h_{\\theta}(x_n))\\}\n",
    "$$\n",
    "where $h_{\\theta}(x) = \\frac{1}{1+\\exp\\{-\\theta^Tx_n\\}}$\n",
    "\n",
    "Subbing $h_{\\theta}(x)$ back into the loss function, we obtain\n",
    "$$\n",
    "J(\\theta) = -\\frac{1}{N} \\{\\sum_{n=1}^{N}[y_n \\cdot \\log (\\frac{\\frac{1}{1+\\exp\\{-\\theta^Tx_n\\}}}{1-\\frac{1}{1+\\exp\\{-\\theta^Tx_n\\}})})] + \\sum_{n=1}^{N}\\log(1-\\frac{1}{1+\\exp\\{-\\theta^Tx_n\\}})\n",
    "\\}\\\\\n",
    "$$\n",
    "$$\n",
    "= -\\frac{1}{N} \\{\\sum_{n=1}^{N}y_n\\log(e^{-\\theta^Tx_n}) + \\sum_{n=1}^{N} \\log(1-\\frac{e^{\\theta^Tx_n}}{1+e^{\\theta^Tx_n})}\n",
    "\\}\\\\\n",
    "$$\n",
    "$$\n",
    "= -\\frac{1}{N} \\{\\sum_{n=1}^{N}-y_n\\theta^Tx_n - \\sum_{n=1}^{N}\\log{(1+e^{\\theta^Tx_n})}\n",
    "\\}\\\\\n",
    "$$\n",
    "$$\n",
    "= -\\frac{1}{N} \\{(\\sum_{n=1}^{N}-y_nx_n)^T\\theta  - \\sum_{n=1}^{N}\\log{(1+e^{\\theta^Tx_n})}\n",
    "\\}\\\\\n",
    "$$"
   ]
  },
  {
   "cell_type": "code",
   "execution_count": 2,
   "id": "devoted-settlement",
   "metadata": {},
   "outputs": [
    {
     "data": {
      "text/plain": [
       "array([[ 1.1566],\n",
       "       [-1.0442],\n",
       "       [-0.0255]])"
      ]
     },
     "execution_count": 2,
     "metadata": {},
     "output_type": "execute_result"
    }
   ],
   "source": [
    "# 3 b)\n",
    "\n",
    "# c0 = pd.read_csv(data_path+\"class0.txt\", delimiter='\\s+', header=None).to_numpy()\n",
    "# c1 = pd.read_csv(data_path+\"class1.txt\", delimiter='\\s+', header=None).to_numpy()\n",
    "\n",
    "\n",
    "c0 = pd.read_csv(quiz_data_path+\"quiz4_class0.txt\", delimiter='\\s+', header=None).to_numpy()\n",
    "c1 = pd.read_csv(quiz_data_path+\"quiz4_class1.txt\", delimiter='\\s+', header=None).to_numpy()\n",
    "\n",
    "n0 = c0.shape[0]\n",
    "n1 = c1.shape[0]\n",
    "N = n0 + n1\n",
    "x = np.vstack([c0,c1])\n",
    "y = np.hstack([np.zeros(n0), np.ones(n1)]).reshape(-1,1)\n",
    "X = np.hstack([x, np.ones((N,1))])\n",
    "\n",
    "lambd = 0.01\n",
    "\n",
    "theta = cp.Variable((3,1))\n",
    "loss = -cp.sum(cp.multiply(y, X @ theta)) \\\n",
    "        + cp.sum(cp.log_sum_exp(cp.hstack([np.zeros((N,1)), X @ theta]), axis=1))\n",
    "reg = cp.sum_squares(theta)\n",
    "prob = cp.Problem(cp.Minimize(loss/N + lambd*reg))\n",
    "prob.solve()\n",
    "omega = theta.value\n",
    "\n",
    "omega"
   ]
  },
  {
   "cell_type": "code",
   "execution_count": 3,
   "id": "standing-cabinet",
   "metadata": {},
   "outputs": [
    {
     "data": {
      "text/plain": [
       "array([[254.559, -20.927,  50.   ]])"
      ]
     },
     "execution_count": 3,
     "metadata": {},
     "output_type": "execute_result"
    }
   ],
   "source": [
    "y.T @ X"
   ]
  },
  {
   "cell_type": "code",
   "execution_count": 4,
   "id": "prostate-disco",
   "metadata": {},
   "outputs": [
    {
     "data": {
      "image/png": "[encoded data removed]",
      "text/plain": [
       "<Figure size 432x288 with 1 Axes>"
      ]
     },
     "metadata": {
      "needs_background": "light"
     },
     "output_type": "display_data"
    }
   ],
   "source": [
    "# 3 c)\n",
    "\n",
    "x1 = np.linspace(-5,10,2)\n",
    "x2 = -omega[0]/omega[1] * x1 - omega[2]/omega[1]\n",
    "\n",
    "plt.figure\n",
    "plt.scatter(c0[:,0], c0[:,1], label='Class 0')\n",
    "plt.scatter(c1[:,0], c1[:,1], label='Class 1')\n",
    "plt.plot(x1,x2, label='Seperating Hyperplane')\n",
    "plt.legend()\n",
    "plt.savefig(fig_path+'quiz4_ex5')"
   ]
  },
  {
   "cell_type": "code",
   "execution_count": 5,
   "id": "capable-ambassador",
   "metadata": {},
   "outputs": [],
   "source": [
    "# 3 d)\n",
    "mu0 = c0.mean(0)\n",
    "mu1 = c1.mean(0)\n",
    "\n",
    "SIG0 = np.cov(c0.T)\n",
    "SIG1 = np.cov(c1.T)\n",
    "\n",
    "invSIG1 = np.linalg.inv(SIG1)\n",
    "invSIG0 = np.linalg.inv(SIG0)\n",
    "detSIG1 = np.linalg.det(SIG1)\n",
    "detSIG0 = np.linalg.det(SIG0)\n",
    "\n",
    "LOG0 = -0.5*np.log(detSIG0)\n",
    "LOG1 = -0.5*np.log(detSIG1)"
   ]
  },
  {
   "cell_type": "code",
   "execution_count": 6,
   "id": "peripheral-maintenance",
   "metadata": {},
   "outputs": [
    {
     "data": {
      "text/plain": [
       "<matplotlib.legend.Legend at 0x7f81d9cfaf70>"
      ]
     },
     "execution_count": 6,
     "metadata": {},
     "output_type": "execute_result"
    },
    {
     "data": {
      "image/png": "[encoded data removed]",
      "text/plain": [
       "<Figure size 432x288 with 1 Axes>"
      ]
     },
     "metadata": {
      "needs_background": "light"
     },
     "output_type": "display_data"
    }
   ],
   "source": [
    "from tqdm.notebook import tqdm\n",
    "\n",
    "x1 = np.linspace(-5,10,N)\n",
    "x2 = np.linspace(-5,10,N)\n",
    "X1,X2 = np.meshgrid(x1,x2)\n",
    "\n",
    "grid = np.zeros((N,N))\n",
    "\n",
    "for i in range(N):\n",
    "    for j in range(N):\n",
    "        xi = np.array([X1[i,j], X2[i,j]]).T\n",
    "        k0 = -0.5*(xi - mu0).T @ invSIG0 @ (xi - mu0) + LOG0\n",
    "        k1 = -0.5*(xi - mu1).T @ invSIG1 @ (xi - mu1) + LOG1\n",
    "        if k1 > k0:\n",
    "            grid[i,j] = 1\n",
    "plt.figure()\n",
    "plt.contour(X1,X2,grid, levels=[0.5], cmap='gray')\n",
    "plt.scatter(c0[:,0], c0[:,1], label='Class 0')\n",
    "plt.scatter(c1[:,0], c1[:,1], label='Class 1')\n",
    "plt.xlabel('x1')\n",
    "plt.ylabel('x2')\n",
    "plt.legend()"
   ]
  },
  {
   "cell_type": "markdown",
   "id": "dietary-september",
   "metadata": {},
   "source": [
    "# Exercise 4"
   ]
  },
  {
   "cell_type": "code",
   "execution_count": 7,
   "id": "descending-affiliate",
   "metadata": {},
   "outputs": [
    {
     "name": "stdout",
     "output_type": "stream",
     "text": [
      "The 47th to 52th elements of the Kernel Matrix: \n",
      " [[1.0000e+00 5.3572e-06 4.8415e-04 4.8019e-14 3.7892e-34]\n",
      " [5.3572e-06 1.0000e+00 6.1413e-03 6.1790e-13 1.7237e-28]\n",
      " [4.8415e-04 6.1413e-03 1.0000e+00 1.4979e-05 1.9280e-18]\n",
      " [4.8019e-14 6.1790e-13 1.4979e-05 1.0000e+00 2.7041e-05]\n",
      " [3.7892e-34 1.7237e-28 1.9280e-18 2.7041e-05 1.0000e+00]]\n"
     ]
    }
   ],
   "source": [
    "# 4 a)\n",
    "\n",
    "h = 1\n",
    "K = np.zeros((N,N))\n",
    "for i in range(N):\n",
    "    for j in range(N):\n",
    "        K[i,j] = np.exp(-np.sum((X[i,:]-X[j,:])**2)/h)\n",
    "        \n",
    "print('The 47th to 52th elements of the Kernel Matrix: \\n', K[47:52, 47:52])"
   ]
  },
  {
   "cell_type": "code",
   "execution_count": 8,
   "id": "center-knock",
   "metadata": {},
   "outputs": [
    {
     "name": "stdout",
     "output_type": "stream",
     "text": [
      "The first 2 elements of alpha:  [[-0.0936 -0.1913]]\n"
     ]
    }
   ],
   "source": [
    "# 4 b)\n",
    "\n",
    "alpha = cp.Variable((N,1))\n",
    "loss = -cp.sum(cp.multiply(y, K @ alpha)) \\\n",
    "        + cp.sum(cp.log_sum_exp(cp.hstack([np.zeros((N,1)), K @ alpha]), axis=1))\n",
    "reg = cp.quad_form(alpha, K)\n",
    "prob = cp.Problem(cp.Minimize(loss/N + lambd*reg))\n",
    "prob.solve()\n",
    "a = alpha.value\n",
    "print('The first 2 elements of alpha: ', a[0:2].T)"
   ]
  },
  {
   "cell_type": "code",
   "execution_count": 9,
   "id": "stuck-player",
   "metadata": {},
   "outputs": [
    {
     "data": {
      "image/png": "[encoded data removed]",
      "text/plain": [
       "<Figure size 432x288 with 1 Axes>"
      ]
     },
     "metadata": {
      "needs_background": "light"
     },
     "output_type": "display_data"
    }
   ],
   "source": [
    "from numpy.matlib import repmat\n",
    "out = np.zeros((N,N))\n",
    "for i in range(N):\n",
    "    for j in range(N):\n",
    "        data = repmat(np.array([x1[j], x2[i], 1]).reshape((1,3)), N, 1)\n",
    "        phi = np.exp(-np.sum((X-data)**2, axis=1)/h)\n",
    "        out[i,j] = np.dot(phi.T, a)\n",
    "\n",
    "plt.figure()\n",
    "plt.scatter(c0[:,0], c0[:,1], label='class 0')\n",
    "plt.scatter(c1[:,0], c1[:,1], label='class 1')\n",
    "plt.contour(x1, x2, out>0.5, levels=[0.5], cmap='gray')\n",
    "plt.xlabel('x1')\n",
    "plt.ylabel('x2')\n",
    "plt.legend()\n",
    "plt.savefig(fig_path+'quiz4_ex7')"
   ]
  },
  {
   "cell_type": "code",
   "execution_count": null,
   "id": "disabled-pioneer",
   "metadata": {},
   "outputs": [],
   "source": []
  },
  {
   "cell_type": "code",
   "execution_count": null,
   "id": "swedish-highland",
   "metadata": {},
   "outputs": [],
   "source": []
  }
 ],
 "metadata": {
  "kernelspec": {
   "display_name": "Python 3",
   "language": "python",
   "name": "python3"
  },
  "language_info": {
   "codemirror_mode": {
    "name": "ipython",
    "version": 3
   },
   "file_extension": ".py",
   "mimetype": "text/x-python",
   "name": "python",
   "nbconvert_exporter": "python",
   "pygments_lexer": "ipython3",
   "version": "3.9.1"
  }
 },
 "nbformat": 4,
 "nbformat_minor": 5
}
